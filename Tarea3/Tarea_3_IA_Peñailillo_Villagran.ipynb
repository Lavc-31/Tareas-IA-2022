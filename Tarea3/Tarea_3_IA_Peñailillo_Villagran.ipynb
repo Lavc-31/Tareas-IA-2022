{
  "nbformat": 4,
  "nbformat_minor": 0,
  "metadata": {
    "colab": {
      "provenance": [],
      "collapsed_sections": []
    },
    "kernelspec": {
      "name": "python3",
      "display_name": "Python 3"
    },
    "language_info": {
      "name": "python"
    }
  },
  "cells": [
    {
      "cell_type": "markdown",
      "source": [
        "## **Configuraciones previas e Instalación de librerías y paquetes**\n",
        "\n",
        "En primer lugar se requiere realizar diversos ajustes al entorno de ejecución, dichos ajustes pueden observarse a continuación:\n"
      ],
      "metadata": {
        "id": "UAIfHSO9LQqx"
      }
    },
    {
      "cell_type": "code",
      "source": [
        "!pip install -q kaggle\n"
      ],
      "metadata": {
        "id": "ObdqA1C5dBhP"
      },
      "execution_count": 1,
      "outputs": []
    },
    {
      "cell_type": "code",
      "source": [
        "from google.colab import files\n",
        "uploaded = files.upload()"
      ],
      "metadata": {
        "colab": {
          "base_uri": "https://localhost:8080/",
          "height": 73
        },
        "id": "_HHIXZ8Kdq8f",
        "outputId": "fab65775-fdf4-4ece-f930-deb926ddbec1"
      },
      "execution_count": 2,
      "outputs": [
        {
          "output_type": "display_data",
          "data": {
            "text/plain": [
              "<IPython.core.display.HTML object>"
            ],
            "text/html": [
              "\n",
              "     <input type=\"file\" id=\"files-bc53b9e4-80ab-4fec-bd48-63b8a93f2652\" name=\"files[]\" multiple disabled\n",
              "        style=\"border:none\" />\n",
              "     <output id=\"result-bc53b9e4-80ab-4fec-bd48-63b8a93f2652\">\n",
              "      Upload widget is only available when the cell has been executed in the\n",
              "      current browser session. Please rerun this cell to enable.\n",
              "      </output>\n",
              "      <script>// Copyright 2017 Google LLC\n",
              "//\n",
              "// Licensed under the Apache License, Version 2.0 (the \"License\");\n",
              "// you may not use this file except in compliance with the License.\n",
              "// You may obtain a copy of the License at\n",
              "//\n",
              "//      http://www.apache.org/licenses/LICENSE-2.0\n",
              "//\n",
              "// Unless required by applicable law or agreed to in writing, software\n",
              "// distributed under the License is distributed on an \"AS IS\" BASIS,\n",
              "// WITHOUT WARRANTIES OR CONDITIONS OF ANY KIND, either express or implied.\n",
              "// See the License for the specific language governing permissions and\n",
              "// limitations under the License.\n",
              "\n",
              "/**\n",
              " * @fileoverview Helpers for google.colab Python module.\n",
              " */\n",
              "(function(scope) {\n",
              "function span(text, styleAttributes = {}) {\n",
              "  const element = document.createElement('span');\n",
              "  element.textContent = text;\n",
              "  for (const key of Object.keys(styleAttributes)) {\n",
              "    element.style[key] = styleAttributes[key];\n",
              "  }\n",
              "  return element;\n",
              "}\n",
              "\n",
              "// Max number of bytes which will be uploaded at a time.\n",
              "const MAX_PAYLOAD_SIZE = 100 * 1024;\n",
              "\n",
              "function _uploadFiles(inputId, outputId) {\n",
              "  const steps = uploadFilesStep(inputId, outputId);\n",
              "  const outputElement = document.getElementById(outputId);\n",
              "  // Cache steps on the outputElement to make it available for the next call\n",
              "  // to uploadFilesContinue from Python.\n",
              "  outputElement.steps = steps;\n",
              "\n",
              "  return _uploadFilesContinue(outputId);\n",
              "}\n",
              "\n",
              "// This is roughly an async generator (not supported in the browser yet),\n",
              "// where there are multiple asynchronous steps and the Python side is going\n",
              "// to poll for completion of each step.\n",
              "// This uses a Promise to block the python side on completion of each step,\n",
              "// then passes the result of the previous step as the input to the next step.\n",
              "function _uploadFilesContinue(outputId) {\n",
              "  const outputElement = document.getElementById(outputId);\n",
              "  const steps = outputElement.steps;\n",
              "\n",
              "  const next = steps.next(outputElement.lastPromiseValue);\n",
              "  return Promise.resolve(next.value.promise).then((value) => {\n",
              "    // Cache the last promise value to make it available to the next\n",
              "    // step of the generator.\n",
              "    outputElement.lastPromiseValue = value;\n",
              "    return next.value.response;\n",
              "  });\n",
              "}\n",
              "\n",
              "/**\n",
              " * Generator function which is called between each async step of the upload\n",
              " * process.\n",
              " * @param {string} inputId Element ID of the input file picker element.\n",
              " * @param {string} outputId Element ID of the output display.\n",
              " * @return {!Iterable<!Object>} Iterable of next steps.\n",
              " */\n",
              "function* uploadFilesStep(inputId, outputId) {\n",
              "  const inputElement = document.getElementById(inputId);\n",
              "  inputElement.disabled = false;\n",
              "\n",
              "  const outputElement = document.getElementById(outputId);\n",
              "  outputElement.innerHTML = '';\n",
              "\n",
              "  const pickedPromise = new Promise((resolve) => {\n",
              "    inputElement.addEventListener('change', (e) => {\n",
              "      resolve(e.target.files);\n",
              "    });\n",
              "  });\n",
              "\n",
              "  const cancel = document.createElement('button');\n",
              "  inputElement.parentElement.appendChild(cancel);\n",
              "  cancel.textContent = 'Cancel upload';\n",
              "  const cancelPromise = new Promise((resolve) => {\n",
              "    cancel.onclick = () => {\n",
              "      resolve(null);\n",
              "    };\n",
              "  });\n",
              "\n",
              "  // Wait for the user to pick the files.\n",
              "  const files = yield {\n",
              "    promise: Promise.race([pickedPromise, cancelPromise]),\n",
              "    response: {\n",
              "      action: 'starting',\n",
              "    }\n",
              "  };\n",
              "\n",
              "  cancel.remove();\n",
              "\n",
              "  // Disable the input element since further picks are not allowed.\n",
              "  inputElement.disabled = true;\n",
              "\n",
              "  if (!files) {\n",
              "    return {\n",
              "      response: {\n",
              "        action: 'complete',\n",
              "      }\n",
              "    };\n",
              "  }\n",
              "\n",
              "  for (const file of files) {\n",
              "    const li = document.createElement('li');\n",
              "    li.append(span(file.name, {fontWeight: 'bold'}));\n",
              "    li.append(span(\n",
              "        `(${file.type || 'n/a'}) - ${file.size} bytes, ` +\n",
              "        `last modified: ${\n",
              "            file.lastModifiedDate ? file.lastModifiedDate.toLocaleDateString() :\n",
              "                                    'n/a'} - `));\n",
              "    const percent = span('0% done');\n",
              "    li.appendChild(percent);\n",
              "\n",
              "    outputElement.appendChild(li);\n",
              "\n",
              "    const fileDataPromise = new Promise((resolve) => {\n",
              "      const reader = new FileReader();\n",
              "      reader.onload = (e) => {\n",
              "        resolve(e.target.result);\n",
              "      };\n",
              "      reader.readAsArrayBuffer(file);\n",
              "    });\n",
              "    // Wait for the data to be ready.\n",
              "    let fileData = yield {\n",
              "      promise: fileDataPromise,\n",
              "      response: {\n",
              "        action: 'continue',\n",
              "      }\n",
              "    };\n",
              "\n",
              "    // Use a chunked sending to avoid message size limits. See b/62115660.\n",
              "    let position = 0;\n",
              "    do {\n",
              "      const length = Math.min(fileData.byteLength - position, MAX_PAYLOAD_SIZE);\n",
              "      const chunk = new Uint8Array(fileData, position, length);\n",
              "      position += length;\n",
              "\n",
              "      const base64 = btoa(String.fromCharCode.apply(null, chunk));\n",
              "      yield {\n",
              "        response: {\n",
              "          action: 'append',\n",
              "          file: file.name,\n",
              "          data: base64,\n",
              "        },\n",
              "      };\n",
              "\n",
              "      let percentDone = fileData.byteLength === 0 ?\n",
              "          100 :\n",
              "          Math.round((position / fileData.byteLength) * 100);\n",
              "      percent.textContent = `${percentDone}% done`;\n",
              "\n",
              "    } while (position < fileData.byteLength);\n",
              "  }\n",
              "\n",
              "  // All done.\n",
              "  yield {\n",
              "    response: {\n",
              "      action: 'complete',\n",
              "    }\n",
              "  };\n",
              "}\n",
              "\n",
              "scope.google = scope.google || {};\n",
              "scope.google.colab = scope.google.colab || {};\n",
              "scope.google.colab._files = {\n",
              "  _uploadFiles,\n",
              "  _uploadFilesContinue,\n",
              "};\n",
              "})(self);\n",
              "</script> "
            ]
          },
          "metadata": {}
        },
        {
          "output_type": "stream",
          "name": "stdout",
          "text": [
            "Saving kaggle.json to kaggle.json\n"
          ]
        }
      ]
    },
    {
      "cell_type": "code",
      "source": [
        "!mkdir ~/.kaggle\n",
        "!cp kaggle.json ~/.kaggle\n",
        "!chmod 600 ~/.kaggle/kaggle.json"
      ],
      "metadata": {
        "id": "993c5T95eQnX"
      },
      "execution_count": 3,
      "outputs": []
    },
    {
      "cell_type": "code",
      "source": [
        "! kaggle datasets download -d patrickgendotti/steam-achievementstatscom-rankings\n",
        "! unzip /content/steam-achievementstatscom-rankings.zip"
      ],
      "metadata": {
        "colab": {
          "base_uri": "https://localhost:8080/"
        },
        "id": "6D69Anqhhole",
        "outputId": "b5d2a381-5fa6-4fff-f7c6-307261ae8047"
      },
      "execution_count": 4,
      "outputs": [
        {
          "output_type": "stream",
          "name": "stdout",
          "text": [
            "Downloading steam-achievementstatscom-rankings.zip to /content\n",
            " 70% 25.0M/35.5M [00:00<00:00, 72.5MB/s]\n",
            "100% 35.5M/35.5M [00:00<00:00, 77.1MB/s]\n",
            "Archive:  /content/steam-achievementstatscom-rankings.zip\n",
            "  inflating: amended_first_200k_players.csv  \n",
            "  inflating: country_data.csv        \n"
          ]
        }
      ]
    },
    {
      "cell_type": "markdown",
      "source": [
        "Tras haber realizado los ajustes mencionados, se requiere instalar distintas librerías y paquetes de Python para poder llevar a cabo la resolución de los problemas planteados en el enunciado, dichas librerías y paquetes son instalados a continuación:"
      ],
      "metadata": {
        "id": "DnYJu_rcyNYB"
      }
    },
    {
      "cell_type": "code",
      "source": [
        "!pip install -U matplotlib\n",
        "import matplotlib as plt\n",
        "import pandas as pd\n",
        "import numpy as np"
      ],
      "metadata": {
        "id": "1se2lQeXence",
        "colab": {
          "base_uri": "https://localhost:8080/"
        },
        "outputId": "d08d0b15-3f94-4899-bc68-3792e9ea113b"
      },
      "execution_count": 1,
      "outputs": [
        {
          "output_type": "stream",
          "name": "stdout",
          "text": [
            "Looking in indexes: https://pypi.org/simple, https://us-python.pkg.dev/colab-wheels/public/simple/\n",
            "Requirement already satisfied: matplotlib in /usr/local/lib/python3.7/dist-packages (3.5.3)\n",
            "Requirement already satisfied: python-dateutil>=2.7 in /usr/local/lib/python3.7/dist-packages (from matplotlib) (2.8.2)\n",
            "Requirement already satisfied: pyparsing>=2.2.1 in /usr/local/lib/python3.7/dist-packages (from matplotlib) (3.0.9)\n",
            "Requirement already satisfied: fonttools>=4.22.0 in /usr/local/lib/python3.7/dist-packages (from matplotlib) (4.38.0)\n",
            "Requirement already satisfied: pillow>=6.2.0 in /usr/local/lib/python3.7/dist-packages (from matplotlib) (7.1.2)\n",
            "Requirement already satisfied: packaging>=20.0 in /usr/local/lib/python3.7/dist-packages (from matplotlib) (21.3)\n",
            "Requirement already satisfied: cycler>=0.10 in /usr/local/lib/python3.7/dist-packages (from matplotlib) (0.11.0)\n",
            "Requirement already satisfied: kiwisolver>=1.0.1 in /usr/local/lib/python3.7/dist-packages (from matplotlib) (1.4.4)\n",
            "Requirement already satisfied: numpy>=1.17 in /usr/local/lib/python3.7/dist-packages (from matplotlib) (1.21.6)\n",
            "Requirement already satisfied: typing-extensions in /usr/local/lib/python3.7/dist-packages (from kiwisolver>=1.0.1->matplotlib) (4.1.1)\n",
            "Requirement already satisfied: six>=1.5 in /usr/local/lib/python3.7/dist-packages (from python-dateutil>=2.7->matplotlib) (1.15.0)\n"
          ]
        }
      ]
    },
    {
      "cell_type": "code",
      "source": [
        "!pip install -U pandasql \n",
        "from pandasql import sqldf\n",
        "from sklearn import datasets"
      ],
      "metadata": {
        "colab": {
          "base_uri": "https://localhost:8080/"
        },
        "id": "qurTxhx63Ui6",
        "outputId": "f54cdf77-f579-4f91-dd13-6bdfab5e593d"
      },
      "execution_count": 2,
      "outputs": [
        {
          "output_type": "stream",
          "name": "stdout",
          "text": [
            "Looking in indexes: https://pypi.org/simple, https://us-python.pkg.dev/colab-wheels/public/simple/\n",
            "Requirement already satisfied: pandasql in /usr/local/lib/python3.7/dist-packages (0.7.3)\n",
            "Requirement already satisfied: pandas in /usr/local/lib/python3.7/dist-packages (from pandasql) (1.3.5)\n",
            "Requirement already satisfied: sqlalchemy in /usr/local/lib/python3.7/dist-packages (from pandasql) (1.4.43)\n",
            "Requirement already satisfied: numpy in /usr/local/lib/python3.7/dist-packages (from pandasql) (1.21.6)\n",
            "Requirement already satisfied: pytz>=2017.3 in /usr/local/lib/python3.7/dist-packages (from pandas->pandasql) (2022.6)\n",
            "Requirement already satisfied: python-dateutil>=2.7.3 in /usr/local/lib/python3.7/dist-packages (from pandas->pandasql) (2.8.2)\n",
            "Requirement already satisfied: six>=1.5 in /usr/local/lib/python3.7/dist-packages (from python-dateutil>=2.7.3->pandas->pandasql) (1.15.0)\n",
            "Requirement already satisfied: importlib-metadata in /usr/local/lib/python3.7/dist-packages (from sqlalchemy->pandasql) (4.13.0)\n",
            "Requirement already satisfied: greenlet!=0.4.17 in /usr/local/lib/python3.7/dist-packages (from sqlalchemy->pandasql) (2.0.1)\n",
            "Requirement already satisfied: zipp>=0.5 in /usr/local/lib/python3.7/dist-packages (from importlib-metadata->sqlalchemy->pandasql) (3.10.0)\n",
            "Requirement already satisfied: typing-extensions>=3.6.4 in /usr/local/lib/python3.7/dist-packages (from importlib-metadata->sqlalchemy->pandasql) (4.1.1)\n"
          ]
        }
      ]
    },
    {
      "cell_type": "code",
      "source": [
        "!pip install -U scikit-learn\n",
        "import matplotlib.pyplot as plt\n",
        "from sklearn.neighbors import KNeighborsRegressor\n",
        "from sklearn.neighbors import KNeighborsClassifier\n",
        "from sklearn.linear_model import LinearRegression\n",
        "from sklearn.cluster import DBSCAN\n",
        "from sklearn.mixture import GaussianMixture\n",
        "from sklearn.metrics import mean_squared_error\n",
        "from sklearn.metrics import mean_absolute_error\n",
        "from sklearn.metrics import max_error"
      ],
      "metadata": {
        "id": "wtIKa-7-fm8e",
        "colab": {
          "base_uri": "https://localhost:8080/"
        },
        "outputId": "744c7da5-6f83-43a9-a08b-ad4313a18ff1"
      },
      "execution_count": 3,
      "outputs": [
        {
          "output_type": "stream",
          "name": "stdout",
          "text": [
            "Looking in indexes: https://pypi.org/simple, https://us-python.pkg.dev/colab-wheels/public/simple/\n",
            "Requirement already satisfied: scikit-learn in /usr/local/lib/python3.7/dist-packages (1.0.2)\n",
            "Requirement already satisfied: threadpoolctl>=2.0.0 in /usr/local/lib/python3.7/dist-packages (from scikit-learn) (3.1.0)\n",
            "Requirement already satisfied: scipy>=1.1.0 in /usr/local/lib/python3.7/dist-packages (from scikit-learn) (1.7.3)\n",
            "Requirement already satisfied: numpy>=1.14.6 in /usr/local/lib/python3.7/dist-packages (from scikit-learn) (1.21.6)\n",
            "Requirement already satisfied: joblib>=0.11 in /usr/local/lib/python3.7/dist-packages (from scikit-learn) (1.2.0)\n"
          ]
        }
      ]
    },
    {
      "cell_type": "markdown",
      "source": [
        "## **Lectura de datos**\n",
        "Para esta sección del desarrollo de la tarea se usa la librería *pandas* y su función *read_csv()* para obtener los datos del dataset y guardarlos en una variable, esta variable es de tipo dataframe lo cual nos otorga distintas facilidades al momento de trabajarla.\n",
        "\n",
        "La función *describe()* nos entrega diversas estadisticas del dataframe deseado, mientras que la función *head()* nos muestra las primeras lineas del dataframe."
      ],
      "metadata": {
        "id": "WO7JjVTeLB0r"
      }
    },
    {
      "cell_type": "code",
      "source": [
        "data = pd.read_csv(\"amended_first_200k_players.csv\")\n",
        "data.describe()"
      ],
      "metadata": {
        "colab": {
          "base_uri": "https://localhost:8080/",
          "height": 399
        },
        "id": "PpWQ3IJ8jW5o",
        "outputId": "b8a16c5a-d6f6-45cb-8f66-e135d32eb4f5"
      },
      "execution_count": 4,
      "outputs": [
        {
          "output_type": "stream",
          "name": "stderr",
          "text": [
            "/usr/local/lib/python3.7/dist-packages/IPython/core/interactiveshell.py:3326: DtypeWarning: Columns (2) have mixed types.Specify dtype option on import or set low_memory=False.\n",
            "  exec(code_obj, self.user_global_ns, self.user_ns)\n"
          ]
        },
        {
          "output_type": "execute_result",
          "data": {
            "text/plain": [
              "          Unnamed: 0           Rank         Points              #  \\\n",
              "count  200010.000000  200010.000000  200010.000000  200010.000000   \n",
              "mean    99974.504500  100005.500000    1536.015505    2297.027194   \n",
              "std     57738.050216   57738.058008    1806.114955    2095.428099   \n",
              "min         0.000000       1.000000     467.600000     241.000000   \n",
              "25%     49972.250000   50003.250000     693.492500    1216.000000   \n",
              "50%     99974.500000  100005.500000    1049.210000    1737.000000   \n",
              "75%    149976.750000  150007.750000    1728.950000    2675.000000   \n",
              "max    199979.000000  200010.000000  132759.300000  153732.000000   \n",
              "\n",
              "               Games           100%            All         Badges  \\\n",
              "count  200010.000000  200010.000000  177328.000000  200010.000000   \n",
              "mean      538.229974      20.377451     742.743120      83.951577   \n",
              "std       904.404437      60.082002    1403.381723     261.649782   \n",
              "min         1.000000       0.000000       0.000000       0.000000   \n",
              "25%       161.000000       2.000000     194.000000      16.000000   \n",
              "50%       285.000000       6.000000     365.000000      33.000000   \n",
              "75%       551.000000      19.000000     733.000000      69.000000   \n",
              "max     24848.000000    6034.000000   41003.000000   19496.000000   \n",
              "\n",
              "                 XP         Hours  \n",
              "count  2.000100e+05  2.000100e+05  \n",
              "mean   3.268784e+04  5.562079e+03  \n",
              "std    2.048665e+05  1.112689e+04  \n",
              "min    0.000000e+00  0.000000e+00  \n",
              "25%    3.675250e+03  2.435500e+03  \n",
              "50%    9.963000e+03  4.232450e+03  \n",
              "75%    2.469975e+04  6.810925e+03  \n",
              "max    3.668572e+07  1.173505e+06  "
            ],
            "text/html": [
              "\n",
              "  <div id=\"df-e656ae01-ea1b-456d-b7ac-5cbeedf5d6f3\">\n",
              "    <div class=\"colab-df-container\">\n",
              "      <div>\n",
              "<style scoped>\n",
              "    .dataframe tbody tr th:only-of-type {\n",
              "        vertical-align: middle;\n",
              "    }\n",
              "\n",
              "    .dataframe tbody tr th {\n",
              "        vertical-align: top;\n",
              "    }\n",
              "\n",
              "    .dataframe thead th {\n",
              "        text-align: right;\n",
              "    }\n",
              "</style>\n",
              "<table border=\"1\" class=\"dataframe\">\n",
              "  <thead>\n",
              "    <tr style=\"text-align: right;\">\n",
              "      <th></th>\n",
              "      <th>Unnamed: 0</th>\n",
              "      <th>Rank</th>\n",
              "      <th>Points</th>\n",
              "      <th>#</th>\n",
              "      <th>Games</th>\n",
              "      <th>100%</th>\n",
              "      <th>All</th>\n",
              "      <th>Badges</th>\n",
              "      <th>XP</th>\n",
              "      <th>Hours</th>\n",
              "    </tr>\n",
              "  </thead>\n",
              "  <tbody>\n",
              "    <tr>\n",
              "      <th>count</th>\n",
              "      <td>200010.000000</td>\n",
              "      <td>200010.000000</td>\n",
              "      <td>200010.000000</td>\n",
              "      <td>200010.000000</td>\n",
              "      <td>200010.000000</td>\n",
              "      <td>200010.000000</td>\n",
              "      <td>177328.000000</td>\n",
              "      <td>200010.000000</td>\n",
              "      <td>2.000100e+05</td>\n",
              "      <td>2.000100e+05</td>\n",
              "    </tr>\n",
              "    <tr>\n",
              "      <th>mean</th>\n",
              "      <td>99974.504500</td>\n",
              "      <td>100005.500000</td>\n",
              "      <td>1536.015505</td>\n",
              "      <td>2297.027194</td>\n",
              "      <td>538.229974</td>\n",
              "      <td>20.377451</td>\n",
              "      <td>742.743120</td>\n",
              "      <td>83.951577</td>\n",
              "      <td>3.268784e+04</td>\n",
              "      <td>5.562079e+03</td>\n",
              "    </tr>\n",
              "    <tr>\n",
              "      <th>std</th>\n",
              "      <td>57738.050216</td>\n",
              "      <td>57738.058008</td>\n",
              "      <td>1806.114955</td>\n",
              "      <td>2095.428099</td>\n",
              "      <td>904.404437</td>\n",
              "      <td>60.082002</td>\n",
              "      <td>1403.381723</td>\n",
              "      <td>261.649782</td>\n",
              "      <td>2.048665e+05</td>\n",
              "      <td>1.112689e+04</td>\n",
              "    </tr>\n",
              "    <tr>\n",
              "      <th>min</th>\n",
              "      <td>0.000000</td>\n",
              "      <td>1.000000</td>\n",
              "      <td>467.600000</td>\n",
              "      <td>241.000000</td>\n",
              "      <td>1.000000</td>\n",
              "      <td>0.000000</td>\n",
              "      <td>0.000000</td>\n",
              "      <td>0.000000</td>\n",
              "      <td>0.000000e+00</td>\n",
              "      <td>0.000000e+00</td>\n",
              "    </tr>\n",
              "    <tr>\n",
              "      <th>25%</th>\n",
              "      <td>49972.250000</td>\n",
              "      <td>50003.250000</td>\n",
              "      <td>693.492500</td>\n",
              "      <td>1216.000000</td>\n",
              "      <td>161.000000</td>\n",
              "      <td>2.000000</td>\n",
              "      <td>194.000000</td>\n",
              "      <td>16.000000</td>\n",
              "      <td>3.675250e+03</td>\n",
              "      <td>2.435500e+03</td>\n",
              "    </tr>\n",
              "    <tr>\n",
              "      <th>50%</th>\n",
              "      <td>99974.500000</td>\n",
              "      <td>100005.500000</td>\n",
              "      <td>1049.210000</td>\n",
              "      <td>1737.000000</td>\n",
              "      <td>285.000000</td>\n",
              "      <td>6.000000</td>\n",
              "      <td>365.000000</td>\n",
              "      <td>33.000000</td>\n",
              "      <td>9.963000e+03</td>\n",
              "      <td>4.232450e+03</td>\n",
              "    </tr>\n",
              "    <tr>\n",
              "      <th>75%</th>\n",
              "      <td>149976.750000</td>\n",
              "      <td>150007.750000</td>\n",
              "      <td>1728.950000</td>\n",
              "      <td>2675.000000</td>\n",
              "      <td>551.000000</td>\n",
              "      <td>19.000000</td>\n",
              "      <td>733.000000</td>\n",
              "      <td>69.000000</td>\n",
              "      <td>2.469975e+04</td>\n",
              "      <td>6.810925e+03</td>\n",
              "    </tr>\n",
              "    <tr>\n",
              "      <th>max</th>\n",
              "      <td>199979.000000</td>\n",
              "      <td>200010.000000</td>\n",
              "      <td>132759.300000</td>\n",
              "      <td>153732.000000</td>\n",
              "      <td>24848.000000</td>\n",
              "      <td>6034.000000</td>\n",
              "      <td>41003.000000</td>\n",
              "      <td>19496.000000</td>\n",
              "      <td>3.668572e+07</td>\n",
              "      <td>1.173505e+06</td>\n",
              "    </tr>\n",
              "  </tbody>\n",
              "</table>\n",
              "</div>\n",
              "      <button class=\"colab-df-convert\" onclick=\"convertToInteractive('df-e656ae01-ea1b-456d-b7ac-5cbeedf5d6f3')\"\n",
              "              title=\"Convert this dataframe to an interactive table.\"\n",
              "              style=\"display:none;\">\n",
              "        \n",
              "  <svg xmlns=\"http://www.w3.org/2000/svg\" height=\"24px\"viewBox=\"0 0 24 24\"\n",
              "       width=\"24px\">\n",
              "    <path d=\"M0 0h24v24H0V0z\" fill=\"none\"/>\n",
              "    <path d=\"M18.56 5.44l.94 2.06.94-2.06 2.06-.94-2.06-.94-.94-2.06-.94 2.06-2.06.94zm-11 1L8.5 8.5l.94-2.06 2.06-.94-2.06-.94L8.5 2.5l-.94 2.06-2.06.94zm10 10l.94 2.06.94-2.06 2.06-.94-2.06-.94-.94-2.06-.94 2.06-2.06.94z\"/><path d=\"M17.41 7.96l-1.37-1.37c-.4-.4-.92-.59-1.43-.59-.52 0-1.04.2-1.43.59L10.3 9.45l-7.72 7.72c-.78.78-.78 2.05 0 2.83L4 21.41c.39.39.9.59 1.41.59.51 0 1.02-.2 1.41-.59l7.78-7.78 2.81-2.81c.8-.78.8-2.07 0-2.86zM5.41 20L4 18.59l7.72-7.72 1.47 1.35L5.41 20z\"/>\n",
              "  </svg>\n",
              "      </button>\n",
              "      \n",
              "  <style>\n",
              "    .colab-df-container {\n",
              "      display:flex;\n",
              "      flex-wrap:wrap;\n",
              "      gap: 12px;\n",
              "    }\n",
              "\n",
              "    .colab-df-convert {\n",
              "      background-color: #E8F0FE;\n",
              "      border: none;\n",
              "      border-radius: 50%;\n",
              "      cursor: pointer;\n",
              "      display: none;\n",
              "      fill: #1967D2;\n",
              "      height: 32px;\n",
              "      padding: 0 0 0 0;\n",
              "      width: 32px;\n",
              "    }\n",
              "\n",
              "    .colab-df-convert:hover {\n",
              "      background-color: #E2EBFA;\n",
              "      box-shadow: 0px 1px 2px rgba(60, 64, 67, 0.3), 0px 1px 3px 1px rgba(60, 64, 67, 0.15);\n",
              "      fill: #174EA6;\n",
              "    }\n",
              "\n",
              "    [theme=dark] .colab-df-convert {\n",
              "      background-color: #3B4455;\n",
              "      fill: #D2E3FC;\n",
              "    }\n",
              "\n",
              "    [theme=dark] .colab-df-convert:hover {\n",
              "      background-color: #434B5C;\n",
              "      box-shadow: 0px 1px 3px 1px rgba(0, 0, 0, 0.15);\n",
              "      filter: drop-shadow(0px 1px 2px rgba(0, 0, 0, 0.3));\n",
              "      fill: #FFFFFF;\n",
              "    }\n",
              "  </style>\n",
              "\n",
              "      <script>\n",
              "        const buttonEl =\n",
              "          document.querySelector('#df-e656ae01-ea1b-456d-b7ac-5cbeedf5d6f3 button.colab-df-convert');\n",
              "        buttonEl.style.display =\n",
              "          google.colab.kernel.accessAllowed ? 'block' : 'none';\n",
              "\n",
              "        async function convertToInteractive(key) {\n",
              "          const element = document.querySelector('#df-e656ae01-ea1b-456d-b7ac-5cbeedf5d6f3');\n",
              "          const dataTable =\n",
              "            await google.colab.kernel.invokeFunction('convertToInteractive',\n",
              "                                                     [key], {});\n",
              "          if (!dataTable) return;\n",
              "\n",
              "          const docLinkHtml = 'Like what you see? Visit the ' +\n",
              "            '<a target=\"_blank\" href=https://colab.research.google.com/notebooks/data_table.ipynb>data table notebook</a>'\n",
              "            + ' to learn more about interactive tables.';\n",
              "          element.innerHTML = '';\n",
              "          dataTable['output_type'] = 'display_data';\n",
              "          await google.colab.output.renderOutput(dataTable, element);\n",
              "          const docLink = document.createElement('div');\n",
              "          docLink.innerHTML = docLinkHtml;\n",
              "          element.appendChild(docLink);\n",
              "        }\n",
              "      </script>\n",
              "    </div>\n",
              "  </div>\n",
              "  "
            ]
          },
          "metadata": {},
          "execution_count": 4
        }
      ]
    },
    {
      "cell_type": "code",
      "source": [
        "data.head()"
      ],
      "metadata": {
        "colab": {
          "base_uri": "https://localhost:8080/",
          "height": 617
        },
        "id": "MVg7aYlfkVdt",
        "outputId": "e7214c8b-5679-41a5-82df-a49657440b54"
      },
      "execution_count": 5,
      "outputs": [
        {
          "output_type": "execute_result",
          "data": {
            "text/plain": [
              "   Unnamed: 0  Rank     Player Id   Player Name  \\\n",
              "0           0     1  The Stranger  The Stranger   \n",
              "1           1     2         lylat         lylat   \n",
              "2           2     3        hannez        hannez   \n",
              "3           3     4     DDtective     DDtective   \n",
              "4           4     5        Skaery        Skaery   \n",
              "\n",
              "                                   Best achievements     Points       #  \\\n",
              "0  Blessing of the Flame  Requiescat  Memory Awak...  132759.30  153732   \n",
              "1  Death from Above  Apex Predator  Waste Not, Wa...  119588.95  141645   \n",
              "2  Legendary Heckler  Legendary Storm  Legendary ...   96014.25   98255   \n",
              "3  Escaping Outlands  A Duneman's Promise  Elite ...   89515.41  101757   \n",
              "4  World of Easy Goo  World of Okay Goo  World of...   88175.83   95676   \n",
              "\n",
              "   Games  100%      All  Badges       XP Member since    Hours  \\\n",
              "0  16755  4493  21203.0    4910  3087192   04/15/2011  75591.8   \n",
              "1  18358  6034  28377.0     195   296822   06/03/2009  55960.7   \n",
              "2  13651  4008  23981.0    2009   792032   06/23/2010  33020.0   \n",
              "3  12070  3708  19821.0     196    60662   09/01/2005   9352.9   \n",
              "4  10338  2127  13092.0     645   198956   06/08/2004  89602.9   \n",
              "\n",
              "           Last update  \n",
              "0  05/26/2022 11:41:05  \n",
              "1  05/26/2022 11:42:01  \n",
              "2  05/26/2022 11:40:54  \n",
              "3  07/22/2022 23:39:26  \n",
              "4  05/26/2022 11:38:46  "
            ],
            "text/html": [
              "\n",
              "  <div id=\"df-c1c080b4-ab7b-4907-b61d-004e142c87d2\">\n",
              "    <div class=\"colab-df-container\">\n",
              "      <div>\n",
              "<style scoped>\n",
              "    .dataframe tbody tr th:only-of-type {\n",
              "        vertical-align: middle;\n",
              "    }\n",
              "\n",
              "    .dataframe tbody tr th {\n",
              "        vertical-align: top;\n",
              "    }\n",
              "\n",
              "    .dataframe thead th {\n",
              "        text-align: right;\n",
              "    }\n",
              "</style>\n",
              "<table border=\"1\" class=\"dataframe\">\n",
              "  <thead>\n",
              "    <tr style=\"text-align: right;\">\n",
              "      <th></th>\n",
              "      <th>Unnamed: 0</th>\n",
              "      <th>Rank</th>\n",
              "      <th>Player Id</th>\n",
              "      <th>Player Name</th>\n",
              "      <th>Best achievements</th>\n",
              "      <th>Points</th>\n",
              "      <th>#</th>\n",
              "      <th>Games</th>\n",
              "      <th>100%</th>\n",
              "      <th>All</th>\n",
              "      <th>Badges</th>\n",
              "      <th>XP</th>\n",
              "      <th>Member since</th>\n",
              "      <th>Hours</th>\n",
              "      <th>Last update</th>\n",
              "    </tr>\n",
              "  </thead>\n",
              "  <tbody>\n",
              "    <tr>\n",
              "      <th>0</th>\n",
              "      <td>0</td>\n",
              "      <td>1</td>\n",
              "      <td>The Stranger</td>\n",
              "      <td>The Stranger</td>\n",
              "      <td>Blessing of the Flame  Requiescat  Memory Awak...</td>\n",
              "      <td>132759.30</td>\n",
              "      <td>153732</td>\n",
              "      <td>16755</td>\n",
              "      <td>4493</td>\n",
              "      <td>21203.0</td>\n",
              "      <td>4910</td>\n",
              "      <td>3087192</td>\n",
              "      <td>04/15/2011</td>\n",
              "      <td>75591.8</td>\n",
              "      <td>05/26/2022 11:41:05</td>\n",
              "    </tr>\n",
              "    <tr>\n",
              "      <th>1</th>\n",
              "      <td>1</td>\n",
              "      <td>2</td>\n",
              "      <td>lylat</td>\n",
              "      <td>lylat</td>\n",
              "      <td>Death from Above  Apex Predator  Waste Not, Wa...</td>\n",
              "      <td>119588.95</td>\n",
              "      <td>141645</td>\n",
              "      <td>18358</td>\n",
              "      <td>6034</td>\n",
              "      <td>28377.0</td>\n",
              "      <td>195</td>\n",
              "      <td>296822</td>\n",
              "      <td>06/03/2009</td>\n",
              "      <td>55960.7</td>\n",
              "      <td>05/26/2022 11:42:01</td>\n",
              "    </tr>\n",
              "    <tr>\n",
              "      <th>2</th>\n",
              "      <td>2</td>\n",
              "      <td>3</td>\n",
              "      <td>hannez</td>\n",
              "      <td>hannez</td>\n",
              "      <td>Legendary Heckler  Legendary Storm  Legendary ...</td>\n",
              "      <td>96014.25</td>\n",
              "      <td>98255</td>\n",
              "      <td>13651</td>\n",
              "      <td>4008</td>\n",
              "      <td>23981.0</td>\n",
              "      <td>2009</td>\n",
              "      <td>792032</td>\n",
              "      <td>06/23/2010</td>\n",
              "      <td>33020.0</td>\n",
              "      <td>05/26/2022 11:40:54</td>\n",
              "    </tr>\n",
              "    <tr>\n",
              "      <th>3</th>\n",
              "      <td>3</td>\n",
              "      <td>4</td>\n",
              "      <td>DDtective</td>\n",
              "      <td>DDtective</td>\n",
              "      <td>Escaping Outlands  A Duneman's Promise  Elite ...</td>\n",
              "      <td>89515.41</td>\n",
              "      <td>101757</td>\n",
              "      <td>12070</td>\n",
              "      <td>3708</td>\n",
              "      <td>19821.0</td>\n",
              "      <td>196</td>\n",
              "      <td>60662</td>\n",
              "      <td>09/01/2005</td>\n",
              "      <td>9352.9</td>\n",
              "      <td>07/22/2022 23:39:26</td>\n",
              "    </tr>\n",
              "    <tr>\n",
              "      <th>4</th>\n",
              "      <td>4</td>\n",
              "      <td>5</td>\n",
              "      <td>Skaery</td>\n",
              "      <td>Skaery</td>\n",
              "      <td>World of Easy Goo  World of Okay Goo  World of...</td>\n",
              "      <td>88175.83</td>\n",
              "      <td>95676</td>\n",
              "      <td>10338</td>\n",
              "      <td>2127</td>\n",
              "      <td>13092.0</td>\n",
              "      <td>645</td>\n",
              "      <td>198956</td>\n",
              "      <td>06/08/2004</td>\n",
              "      <td>89602.9</td>\n",
              "      <td>05/26/2022 11:38:46</td>\n",
              "    </tr>\n",
              "  </tbody>\n",
              "</table>\n",
              "</div>\n",
              "      <button class=\"colab-df-convert\" onclick=\"convertToInteractive('df-c1c080b4-ab7b-4907-b61d-004e142c87d2')\"\n",
              "              title=\"Convert this dataframe to an interactive table.\"\n",
              "              style=\"display:none;\">\n",
              "        \n",
              "  <svg xmlns=\"http://www.w3.org/2000/svg\" height=\"24px\"viewBox=\"0 0 24 24\"\n",
              "       width=\"24px\">\n",
              "    <path d=\"M0 0h24v24H0V0z\" fill=\"none\"/>\n",
              "    <path d=\"M18.56 5.44l.94 2.06.94-2.06 2.06-.94-2.06-.94-.94-2.06-.94 2.06-2.06.94zm-11 1L8.5 8.5l.94-2.06 2.06-.94-2.06-.94L8.5 2.5l-.94 2.06-2.06.94zm10 10l.94 2.06.94-2.06 2.06-.94-2.06-.94-.94-2.06-.94 2.06-2.06.94z\"/><path d=\"M17.41 7.96l-1.37-1.37c-.4-.4-.92-.59-1.43-.59-.52 0-1.04.2-1.43.59L10.3 9.45l-7.72 7.72c-.78.78-.78 2.05 0 2.83L4 21.41c.39.39.9.59 1.41.59.51 0 1.02-.2 1.41-.59l7.78-7.78 2.81-2.81c.8-.78.8-2.07 0-2.86zM5.41 20L4 18.59l7.72-7.72 1.47 1.35L5.41 20z\"/>\n",
              "  </svg>\n",
              "      </button>\n",
              "      \n",
              "  <style>\n",
              "    .colab-df-container {\n",
              "      display:flex;\n",
              "      flex-wrap:wrap;\n",
              "      gap: 12px;\n",
              "    }\n",
              "\n",
              "    .colab-df-convert {\n",
              "      background-color: #E8F0FE;\n",
              "      border: none;\n",
              "      border-radius: 50%;\n",
              "      cursor: pointer;\n",
              "      display: none;\n",
              "      fill: #1967D2;\n",
              "      height: 32px;\n",
              "      padding: 0 0 0 0;\n",
              "      width: 32px;\n",
              "    }\n",
              "\n",
              "    .colab-df-convert:hover {\n",
              "      background-color: #E2EBFA;\n",
              "      box-shadow: 0px 1px 2px rgba(60, 64, 67, 0.3), 0px 1px 3px 1px rgba(60, 64, 67, 0.15);\n",
              "      fill: #174EA6;\n",
              "    }\n",
              "\n",
              "    [theme=dark] .colab-df-convert {\n",
              "      background-color: #3B4455;\n",
              "      fill: #D2E3FC;\n",
              "    }\n",
              "\n",
              "    [theme=dark] .colab-df-convert:hover {\n",
              "      background-color: #434B5C;\n",
              "      box-shadow: 0px 1px 3px 1px rgba(0, 0, 0, 0.15);\n",
              "      filter: drop-shadow(0px 1px 2px rgba(0, 0, 0, 0.3));\n",
              "      fill: #FFFFFF;\n",
              "    }\n",
              "  </style>\n",
              "\n",
              "      <script>\n",
              "        const buttonEl =\n",
              "          document.querySelector('#df-c1c080b4-ab7b-4907-b61d-004e142c87d2 button.colab-df-convert');\n",
              "        buttonEl.style.display =\n",
              "          google.colab.kernel.accessAllowed ? 'block' : 'none';\n",
              "\n",
              "        async function convertToInteractive(key) {\n",
              "          const element = document.querySelector('#df-c1c080b4-ab7b-4907-b61d-004e142c87d2');\n",
              "          const dataTable =\n",
              "            await google.colab.kernel.invokeFunction('convertToInteractive',\n",
              "                                                     [key], {});\n",
              "          if (!dataTable) return;\n",
              "\n",
              "          const docLinkHtml = 'Like what you see? Visit the ' +\n",
              "            '<a target=\"_blank\" href=https://colab.research.google.com/notebooks/data_table.ipynb>data table notebook</a>'\n",
              "            + ' to learn more about interactive tables.';\n",
              "          element.innerHTML = '';\n",
              "          dataTable['output_type'] = 'display_data';\n",
              "          await google.colab.output.renderOutput(dataTable, element);\n",
              "          const docLink = document.createElement('div');\n",
              "          docLink.innerHTML = docLinkHtml;\n",
              "          element.appendChild(docLink);\n",
              "        }\n",
              "      </script>\n",
              "    </div>\n",
              "  </div>\n",
              "  "
            ]
          },
          "metadata": {},
          "execution_count": 5
        }
      ]
    },
    {
      "cell_type": "markdown",
      "source": [
        "## **Distribución de datos para Training y Testing**\n",
        "Mediante el uso de la librería *pandasql* se crean dos consultas para poder separar el dataset en una proporción de 60% para training y 40% para testing. Posteriormente se definen los campos del dataset a tratar por los distintos algoritmos y se indican las dimensiones de cada sección del dataset."
      ],
      "metadata": {
        "id": "wC5HTAjDJWUT"
      }
    },
    {
      "cell_type": "code",
      "source": [
        "\n",
        "q=\"SELECT *, Rank%5 as grup FROM data WHERE grup = 0 OR grup= 2 OR grup = 4  \"\n",
        "TrainingData = sqldf(q,globals())\n",
        "\n",
        "q=\"SELECT *, Rank%5 as grup FROM data WHERE grup = 1 OR grup= 3  \"\n",
        "TestingData = sqldf(q,globals())\n",
        "\n",
        "inputTrainingX = np.array(TrainingData[['Games','Badges','100%']])\n",
        "inputTrainingY = np.array(TrainingData[['Points']])\n",
        "inputTestingX = np.array(TestingData[['Games','Badges','100%']])\n",
        "inputTestingY = np.array(TestingData[['Points']])\n",
        "\n",
        "print(inputTrainingX.shape)\n",
        "print(inputTrainingY.shape)\n",
        "print(inputTestingX.shape)\n",
        "print(inputTestingY.shape)"
      ],
      "metadata": {
        "colab": {
          "base_uri": "https://localhost:8080/"
        },
        "id": "Uu2EvxmmkX6N",
        "outputId": "2e1f0c32-8534-4144-d806-f6ebee025d5d"
      },
      "execution_count": 6,
      "outputs": [
        {
          "output_type": "stream",
          "name": "stdout",
          "text": [
            "(120006, 3)\n",
            "(120006, 1)\n",
            "(80004, 3)\n",
            "(80004, 1)\n"
          ]
        }
      ]
    },
    {
      "cell_type": "markdown",
      "source": [
        "## **Visualización de datos**\n",
        "A continuación se muestra un gráfico de los datos de entrenamiento en su estado natural, sin ser afectados por ninguno de los algoritmos a desarrollar. Además puede observarse la cantidad de usuarios y su respectiva cantidad de juegos, medallas, juegos completados al 100% y puntos de Steam gracias al uso de la función *groupby()*."
      ],
      "metadata": {
        "id": "pKZLLb2_K4vo"
      }
    },
    {
      "cell_type": "code",
      "source": [
        "plt.scatter(inputTrainingX[:,0], inputTrainingY)\n",
        "plt.show"
      ],
      "metadata": {
        "id": "9855qe20msPC",
        "colab": {
          "base_uri": "https://localhost:8080/",
          "height": 282
        },
        "outputId": "fb067d74-d27f-42b8-f1b8-41e500349d64"
      },
      "execution_count": 7,
      "outputs": [
        {
          "output_type": "execute_result",
          "data": {
            "text/plain": [
              "<function matplotlib.pyplot.show(close=None, block=None)>"
            ]
          },
          "metadata": {},
          "execution_count": 7
        },
        {
          "output_type": "display_data",
          "data": {
            "text/plain": [
              "<Figure size 432x288 with 1 Axes>"
            ],
            "image/png": "[encoded data removed]"
          },
          "metadata": {
            "needs_background": "light"
          }
        }
      ]
    },
    {
      "cell_type": "code",
      "source": [
        "print(TrainingData.groupby('Games').size())\n",
        "print(\"--------------------------------------------\")\n",
        "print(TrainingData.groupby('Badges').size())\n",
        "print(\"--------------------------------------------\")\n",
        "print(TrainingData.groupby('100%').size())\n",
        "print(\"--------------------------------------------\")\n",
        "print(TrainingData.groupby('Points').size())"
      ],
      "metadata": {
        "colab": {
          "base_uri": "https://localhost:8080/"
        },
        "id": "18mNrZZ0aE2N",
        "outputId": "eef14a2f-b0ab-4aba-c20f-f8a8fed54213"
      },
      "execution_count": 59,
      "outputs": [
        {
          "output_type": "stream",
          "name": "stdout",
          "text": [
            "Games\n",
            "1        1\n",
            "2        2\n",
            "3        2\n",
            "4        6\n",
            "5        5\n",
            "        ..\n",
            "18358    1\n",
            "18791    1\n",
            "18831    1\n",
            "19335    1\n",
            "24848    1\n",
            "Length: 4786, dtype: int64\n",
            "--------------------------------------------\n",
            "Badges\n",
            "0         118\n",
            "1          23\n",
            "2         189\n",
            "3        1235\n",
            "4        1999\n",
            "         ... \n",
            "10415       1\n",
            "10953       1\n",
            "11153       1\n",
            "14207       1\n",
            "16222       1\n",
            "Length: 1766, dtype: int64\n",
            "--------------------------------------------\n",
            "100%\n",
            "0       13461\n",
            "1       13267\n",
            "2       10869\n",
            "3        8433\n",
            "4        6815\n",
            "        ...  \n",
            "3266        1\n",
            "3449        1\n",
            "3708        1\n",
            "3938        1\n",
            "6034        1\n",
            "Length: 680, dtype: int64\n",
            "--------------------------------------------\n",
            "Points\n",
            "467.60       2\n",
            "467.61       2\n",
            "467.62       3\n",
            "467.64       1\n",
            "467.65       3\n",
            "            ..\n",
            "55462.62     1\n",
            "77283.09     1\n",
            "88175.83     1\n",
            "89515.41     1\n",
            "119588.95    1\n",
            "Length: 94167, dtype: int64\n"
          ]
        }
      ]
    },
    {
      "cell_type": "markdown",
      "source": [
        "## **Algoritmo KNN**\n",
        "Este algoritmo predice el valor de los puntos de Steam de cada usuario según los valores de los usuarios que lo rodean. Se puede observar tambien el cálculo del error haciendo uso de 3 métricas distintas según lo solicitado en el enunciado. Dichas métricas otorgan mediciones del error muy distintas entre si, lo cual puede explicarse debido a las fórmulas matematicas de donde provienen. La métrica que otorga un mejor valor de error en relación a los datos de la predicción resulta ser el error absoluto medio.\n",
        "\n",
        "Finalmente se puede observar una comparación entre 2 gráficos que representan los datos de testing y la predicción realizada respectivamente, resulta evidente la diferencia entre los valores obtenidos en ambos casos sin embargo cabe destacar la buena aproximación lograda por la predicción."
      ],
      "metadata": {
        "id": "w1auFvPIJobG"
      }
    },
    {
      "cell_type": "code",
      "source": [
        "neigh = KNeighborsRegressor(n_neighbors=10)\n",
        "neigh.fit(inputTrainingX, inputTrainingY)\n",
        "print(neigh.predict(inputTestingX))\n",
        "res = neigh.predict(inputTestingX)\n",
        "\n",
        "print(\"error cuadrático medio: \", mean_squared_error(inputTestingY, res))\n",
        "print(\"error absoluto medio: \", mean_absolute_error(inputTestingY, res))\n",
        "print(\"error máximo residual: \", max_error(inputTestingY, res))"
      ],
      "metadata": {
        "id": "tb3JQAdFogD3",
        "colab": {
          "base_uri": "https://localhost:8080/"
        },
        "outputId": "e374b4cf-9235-41d1-bf5a-98016bab00ca"
      },
      "execution_count": 9,
      "outputs": [
        {
          "output_type": "stream",
          "name": "stdout",
          "text": [
            "[[35381.945]\n",
            " [35042.28 ]\n",
            " [46859.072]\n",
            " ...\n",
            " [  695.964]\n",
            " [  682.388]\n",
            " [  670.811]]\n",
            "error cuadrático medio:  1195263.4292286963\n",
            "error absoluto medio:  520.1788947052647\n",
            "error máximo residual:  97377.355\n"
          ]
        }
      ]
    },
    {
      "cell_type": "code",
      "source": [
        "plt.figure(0)\n",
        "plt.plot(inputTestingY)\n",
        "plt.grid()\n",
        "plt.title('Datos de Testing')\n",
        "plt.xlabel('Testing')\n",
        "plt.ylabel('Training')\n",
        "plt.figure(1)\n",
        "plt.plot(res)\n",
        "plt.grid()\n",
        "plt.title('Datos de la Predicción')\n",
        "plt.xlabel('Testing')\n",
        "plt.ylabel('Training')\n",
        "plt.show"
      ],
      "metadata": {
        "colab": {
          "base_uri": "https://localhost:8080/",
          "height": 590
        },
        "id": "Q82CzTIsGF8S",
        "outputId": "3fdf94d3-92b7-4dda-d69f-5543c614b662"
      },
      "execution_count": 10,
      "outputs": [
        {
          "output_type": "execute_result",
          "data": {
            "text/plain": [
              "<function matplotlib.pyplot.show(close=None, block=None)>"
            ]
          },
          "metadata": {},
          "execution_count": 10
        },
        {
          "output_type": "display_data",
          "data": {
            "text/plain": [
              "<Figure size 432x288 with 1 Axes>"
            ],
            "image/png": "[encoded data removed]"
          },
          "metadata": {
            "needs_background": "light"
          }
        },
        {
          "output_type": "display_data",
          "data": {
            "text/plain": [
              "<Figure size 432x288 with 1 Axes>"
            ],
            "image/png": "[encoded data removed]"
          },
          "metadata": {
            "needs_background": "light"
          }
        }
      ]
    },
    {
      "cell_type": "markdown",
      "source": [
        "## **Algoritmo Regresión Lineal**\n",
        "Este algoritmo predice el valor de los puntos de Steam de cada usuario según la cercanía que tenga dicho usuario a una recta de ajuste lineal. En el caso del dataset utilizado y los campos elegidos dicha recta es generada mayormente por el campo \"100%\" (el cual puede ser observado en el tercer gráfico de puntos) sin embargo la densidad de puntos en los otros dos campos genera una perdida de precisión que dificulta llevar a cabo una buena predicción, esto puede verse reflejado en el alto valor del error si se le compara con los datos obtenidos de la predicción. Se puede notar además como el valor obtenido mediante el uso del error cuadrático medio se acerca al obtenido para el caso de KNN bajo la misma métrica, lo cual se explica en que se está trabajando con los mismos datos en ambos casos."
      ],
      "metadata": {
        "id": "FcZUDNPAJvri"
      }
    },
    {
      "cell_type": "code",
      "source": [
        "reg = LinearRegression().fit(inputTrainingX, inputTrainingY)\n",
        "print(reg.predict(inputTestingX))\n",
        "res2 = reg.predict(inputTestingX)\n",
        "\n",
        "print(\"error cuadrático medio: \", mean_squared_error(inputTestingY, res2))"
      ],
      "metadata": {
        "id": "CfV99rWdJ34b",
        "colab": {
          "base_uri": "https://localhost:8080/"
        },
        "outputId": "223472b9-a678-4f8d-a9cf-5e239cbc5b8a"
      },
      "execution_count": 38,
      "outputs": [
        {
          "output_type": "stream",
          "name": "stdout",
          "text": [
            "[[107988.73641686]\n",
            " [ 96431.07351947]\n",
            " [ 94595.96551919]\n",
            " ...\n",
            " [  1033.02637433]\n",
            " [   967.19922372]\n",
            " [   972.44118348]]\n",
            "error cuadrático medio:  944119.624355513\n"
          ]
        }
      ]
    },
    {
      "cell_type": "code",
      "source": [
        "plt.figure(0)\n",
        "plt.scatter(inputTestingX[:,0],res2)\n",
        "plt.xlabel('Testing')\n",
        "plt.ylabel('Training')\n",
        "plt.figure(1)\n",
        "plt.scatter(inputTestingX[:,1],res2)\n",
        "plt.xlabel('Testing')\n",
        "plt.ylabel('Training')\n",
        "plt.figure(2)\n",
        "plt.scatter(inputTestingX[:,2],res2)\n",
        "plt.xlabel('Testing')\n",
        "plt.ylabel('Training')\n",
        "plt.show"
      ],
      "metadata": {
        "colab": {
          "base_uri": "https://localhost:8080/",
          "height": 820
        },
        "id": "u2nal24cPBE9",
        "outputId": "0f58676a-3066-445b-e796-0c1c78634ec0"
      },
      "execution_count": 39,
      "outputs": [
        {
          "output_type": "execute_result",
          "data": {
            "text/plain": [
              "<function matplotlib.pyplot.show(close=None, block=None)>"
            ]
          },
          "metadata": {},
          "execution_count": 39
        },
        {
          "output_type": "display_data",
          "data": {
            "text/plain": [
              "<Figure size 432x288 with 1 Axes>"
            ],
            "image/png": "[encoded data removed]"
          },
          "metadata": {
            "needs_background": "light"
          }
        },
        {
          "output_type": "display_data",
          "data": {
            "text/plain": [
              "<Figure size 432x288 with 1 Axes>"
            ],
            "image/png": "[encoded data removed]"
          },
          "metadata": {
            "needs_background": "light"
          }
        },
        {
          "output_type": "display_data",
          "data": {
            "text/plain": [
              "<Figure size 432x288 with 1 Axes>"
            ],
            "image/png": "[encoded data removed]"
          },
          "metadata": {
            "needs_background": "light"
          }
        }
      ]
    },
    {
      "cell_type": "code",
      "source": [
        "plt.plot(inputTestingX[:,2],res2)\n",
        "plt.xlabel('Testing')\n",
        "plt.ylabel('Training')\n",
        "plt.legend(['inputTesting','resultados'])\n",
        "plt.grid()\n",
        "plt.show"
      ],
      "metadata": {
        "colab": {
          "base_uri": "https://localhost:8080/",
          "height": 296
        },
        "id": "6_yBDyBOUZy0",
        "outputId": "064d7fc0-1182-407a-ba80-b44642ecf4aa"
      },
      "execution_count": 40,
      "outputs": [
        {
          "output_type": "execute_result",
          "data": {
            "text/plain": [
              "<function matplotlib.pyplot.show(close=None, block=None)>"
            ]
          },
          "metadata": {},
          "execution_count": 40
        },
        {
          "output_type": "display_data",
          "data": {
            "text/plain": [
              "<Figure size 432x288 with 1 Axes>"
            ],
            "image/png": "[encoded data removed]"
          },
          "metadata": {
            "needs_background": "light"
          }
        }
      ]
    },
    {
      "cell_type": "markdown",
      "source": [
        "## **Algoritmo GMM**\n",
        "En este algoritmo se espera clasificar los datos entregados como parámetros de aprendizaje (Games, Badges y 100%) e identificar cual es el que aporta más a la predicción del parámetro Points. Como se puede observar en los distintos gráficos generados es claro que el parámetro de etiqueta con valor 2 es quien más aporta de cara a la predicción, dicho parámetro corresponde a la cantidad de juegos que el usuario haya completado al 100%. Esta interpretación de los datos obtenidos se sustenta en como se definieron anteriormente las variables *inputTrainingX* y *inputTestingX* en la sección de distribución de datos."
      ],
      "metadata": {
        "id": "JLE4Rur3J6_b"
      }
    },
    {
      "cell_type": "code",
      "source": [
        "gm = GaussianMixture(n_components=3, covariance_type=\"full\", init_params=\"kmeans\").fit(inputTrainingX, inputTrainingY)\n",
        "gm.means_\n",
        "res3 = gm.predict(inputTestingX)\n",
        "print(res3)"
      ],
      "metadata": {
        "id": "qld15H33KBo8",
        "colab": {
          "base_uri": "https://localhost:8080/"
        },
        "outputId": "d16b3dd9-9f3e-4417-e627-39f596aca3e2"
      },
      "execution_count": 63,
      "outputs": [
        {
          "output_type": "stream",
          "name": "stdout",
          "text": [
            "[1 1 1 ... 0 0 2]\n"
          ]
        }
      ]
    },
    {
      "cell_type": "code",
      "source": [
        "plt.figure(0)\n",
        "plt.scatter(inputTestingX[:,0], res3)\n",
        "plt.figure(1)\n",
        "plt.scatter(inputTestingX[:,1], res3)\n",
        "plt.figure(2)\n",
        "plt.scatter(inputTestingX[:,2], res3)\n",
        "plt.figure(3)\n",
        "plt.scatter(inputTestingY, res3)\n",
        "plt.show"
      ],
      "metadata": {
        "colab": {
          "base_uri": "https://localhost:8080/",
          "height": 1000
        },
        "id": "KFoiqUzvXvS3",
        "outputId": "f160a792-fd5b-4878-d896-b92548e27853"
      },
      "execution_count": 64,
      "outputs": [
        {
          "output_type": "execute_result",
          "data": {
            "text/plain": [
              "<function matplotlib.pyplot.show(close=None, block=None)>"
            ]
          },
          "metadata": {},
          "execution_count": 64
        },
        {
          "output_type": "display_data",
          "data": {
            "text/plain": [
              "<Figure size 432x288 with 1 Axes>"
            ],
            "image/png": "[encoded data removed]"
          },
          "metadata": {
            "needs_background": "light"
          }
        },
        {
          "output_type": "display_data",
          "data": {
            "text/plain": [
              "<Figure size 432x288 with 1 Axes>"
            ],
            "image/png": "[encoded data removed]"
          },
          "metadata": {
            "needs_background": "light"
          }
        },
        {
          "output_type": "display_data",
          "data": {
            "text/plain": [
              "<Figure size 432x288 with 1 Axes>"
            ],
            "image/png": "[encoded data removed]"
          },
          "metadata": {
            "needs_background": "light"
          }
        },
        {
          "output_type": "display_data",
          "data": {
            "text/plain": [
              "<Figure size 432x288 with 1 Axes>"
            ],
            "image/png": "[encoded data removed]"
          },
          "metadata": {
            "needs_background": "light"
          }
        }
      ]
    },
    {
      "cell_type": "markdown",
      "source": [
        "## **Algoritmo DBSCAN**\n",
        "De manera similar al caso anterior, en este algoritmo se espera clasificar los datos entregados como parámetros de aprendizaje (Games, Badges y 100%) e identificar cual es el que aporta más a la predicción del parámetro Points. Como se puede observar en los distintos gráficos generados es claro que el parámetro de etiqueta con valor -1 es quien más aporta de cara a la predicción, sin embargo resulta dificil asociar dicho parámetro a uno de los campos antes mencionados. Se presume que corresponda al campo \"100%\" ya que la lógica de funcionamiento de ambos algoritmos es similar, por lo que deberian entregar resultados similares hasta cierto punto, guardando las proporciones generadas por los detalles de funcionamiento en cada caso."
      ],
      "metadata": {
        "id": "r_NgOhftKC5V"
      }
    },
    {
      "cell_type": "code",
      "source": [
        "dbs = DBSCAN(eps=25, min_samples=25).fit(inputTrainingX, inputTrainingY)\n",
        "res4 = dbs.fit_predict(inputTestingX, inputTestingY)\n",
        "print(dbs.labels_)"
      ],
      "metadata": {
        "id": "zkqvmCdgKHqe",
        "colab": {
          "base_uri": "https://localhost:8080/"
        },
        "outputId": "b3a59674-c018-42e7-99df-00884313a157"
      },
      "execution_count": 65,
      "outputs": [
        {
          "output_type": "stream",
          "name": "stdout",
          "text": [
            "[-1 -1 -1 ...  0  0  0]\n"
          ]
        }
      ]
    },
    {
      "cell_type": "code",
      "source": [
        "plt.figure(0)\n",
        "plt.scatter(inputTestingX[:,0], res4, c = dbs.labels_.astype(float), s = 50)\n",
        "plt.figure(1)\n",
        "plt.scatter(inputTestingX[:,1], res4, c = dbs.labels_.astype(float), s = 50)\n",
        "plt.figure(2)\n",
        "plt.scatter(inputTestingX[:,2], res4, c = dbs.labels_.astype(float), s = 50)\n",
        "plt.figure(3)\n",
        "plt.scatter(inputTestingY, res4, c = dbs.labels_.astype(float), s = 50)\n",
        "plt.show"
      ],
      "metadata": {
        "colab": {
          "base_uri": "https://localhost:8080/",
          "height": 1000
        },
        "id": "6R3drq32nI1L",
        "outputId": "73deac7e-10cd-432d-9b62-115b4ce21cb9"
      },
      "execution_count": 66,
      "outputs": [
        {
          "output_type": "execute_result",
          "data": {
            "text/plain": [
              "<function matplotlib.pyplot.show(close=None, block=None)>"
            ]
          },
          "metadata": {},
          "execution_count": 66
        },
        {
          "output_type": "display_data",
          "data": {
            "text/plain": [
              "<Figure size 432x288 with 1 Axes>"
            ],
            "image/png": "[encoded data removed]"
          },
          "metadata": {
            "needs_background": "light"
          }
        },
        {
          "output_type": "display_data",
          "data": {
            "text/plain": [
              "<Figure size 432x288 with 1 Axes>"
            ],
            "image/png": "[encoded data removed]"
          },
          "metadata": {
            "needs_background": "light"
          }
        },
        {
          "output_type": "display_data",
          "data": {
            "text/plain": [
              "<Figure size 432x288 with 1 Axes>"
            ],
            "image/png": "[encoded data removed]"
          },
          "metadata": {
            "needs_background": "light"
          }
        },
        {
          "output_type": "display_data",
          "data": {
            "text/plain": [
              "<Figure size 432x288 with 1 Axes>"
            ],
            "image/png": "[encoded data removed]"
          },
          "metadata": {
            "needs_background": "light"
          }
        }
      ]
    },
    {
      "cell_type": "markdown",
      "source": [
        "## **Comparación entre GMM y DBSCAN**\n",
        "Cabe destacar que ambos algoritmos predicen 3 valores distintos para las etiquetas, lo cual se asocia directamente con la naturaleza del problema planteado. \n",
        "\n",
        "Una diferencia importante a notar es el hecho de que DBSCAN puede utilizar valores negativos para indicar las etiquetas obtenidas mientras que GMM solo utiliza valores mayores o iguales a cero. Otra diferecia destacable es el hecho de que GMM puede trabajar con una mezcla de distribuciones de datos (tanto visibles como ocultos) gracias al uso del algoritmo EM, mientras que DBSCAN solo trabaja sobre una distribución de datos los cuales deben ser explicitos para poder ser utilizados."
      ],
      "metadata": {
        "id": "OxHeboBUe0To"
      }
    }
  ]
}